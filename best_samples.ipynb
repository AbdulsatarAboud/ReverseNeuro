{
 "cells": [
  {
   "attachments": {},
   "cell_type": "markdown",
   "metadata": {},
   "source": [
    "This code uses trained pytorch models to rank best EEG samples per class"
   ]
  },
  {
   "cell_type": "code",
   "execution_count": 1,
   "metadata": {},
   "outputs": [
    {
     "name": "stdout",
     "output_type": "stream",
     "text": [
      "GPU_available=True\n"
     ]
    }
   ],
   "source": [
    "import sys\n",
    "import numpy as np\n",
    "import scipy.io\n",
    "import torch\n",
    "from matplotlib import pyplot as plt\n",
    "from torchvision import transforms\n",
    "sys.path.append('./models/')\n",
    "sys.path.append('./source/')\n",
    "\n",
    "import utils as myUtils\n",
    "from DataTypes import EEGDataset\n",
    "from CNN_1 import Network\n",
    "\n",
    "# Check does your computer support using GPU\n",
    "print(\"GPU_available={}\".format(torch.cuda.is_available()))"
   ]
  },
  {
   "cell_type": "code",
   "execution_count": 2,
   "metadata": {},
   "outputs": [
    {
     "name": "stderr",
     "output_type": "stream",
     "text": [
      "c:\\Users\\Abdulsatar\\Documents\\UBICOMP\\Thesis Work\\ReverseNeuro\\./models\\CNN_1.py:60: UserWarning: Implicit dimension choice for softmax has been deprecated. Change the call to include dim=X as an argument.\n",
      "  x = self.softmax8(x)\n"
     ]
    }
   ],
   "source": [
    "mat = scipy.io.loadmat('EEG_samples_pruned.mat') # make sure to choose the right sample set\n",
    "mode = 'Kfold_pruned' # make sure to change the mode to get the correct trained models\n",
    "method = 'sorting' # This code sorts/choses the 10 best EEG samples\n",
    "EEG_samples = mat['EEG_samples']\n",
    "trial_no = 'trial21'\n",
    "no_participants = 29\n",
    "model_classes = [0,1] # 0 => Sick Class; 1 => Normal Class\n",
    "export_matlab = {} # To be exported for matlab analysis\n",
    "none_sick_stack = [] # best non sick samples\n",
    "sick_stack = [] # best sick samples\n",
    "none_sick, sick = [], []\n",
    "\n",
    "for partic_id in range(0,no_participants):\n",
    "\n",
    "    # initiate arrays\n",
    "    sick_probs = []\n",
    "    none_sick_probs = []\n",
    "\n",
    "    # Get the dataset\n",
    "    full_data, train_data, test_data = myUtils.generateTrainTest(EEG_samples, partic_id, normalize = False, LOU = True)\n",
    "\n",
    "    # Transform the dataset to standard tensor datatype\n",
    "    data_transform = transforms.Compose([transforms.ToTensor()])\n",
    "    test_set = EEGDataset(data_set=test_data[0], label_set=test_data[1], transform=data_transform)\n",
    "\n",
    "    # Loading the trained model\n",
    "    model = Network(num_classes=2)\n",
    "    model = model.cuda() # Move the model to the GPU\n",
    "    state_dict = torch.load('./trained_models/'+trial_no+'/'+mode+'/'+'Arch'+str(partic_id+1)+'.pth')  # Load the model's state dictionary.\n",
    "    model.load_state_dict(state_dict) # Load the model state into the custom model\n",
    "    model.eval()  # Set the model to evaluation mode.\n",
    "\n",
    "    for sample_id in range(0, test_set.__len__()):\n",
    "        # Run the model on the inputs and get scores\n",
    "        with torch.no_grad():  # No need to calculate gradients for this step.\n",
    "            eeg_sample, label = test_set.__getitem__(sample_id)\n",
    "            eeg_sample = model(eeg_sample.unsqueeze(0).float().cuda())  # Run the model on the EEG samples.\n",
    "\n",
    "        scores = torch.nn.functional.softmax(eeg_sample[0], dim=0)  # Calculate the softmax to get the scores.\n",
    "        #print(str(scores)+\" | \"+str(label[0]))  # Print the scores.\n",
    "\n",
    "        if(label[0] == 1):\n",
    "            none_sick_probs.append(scores[1].item())\n",
    "        else:\n",
    "            sick_probs.append(scores[0].item())\n",
    "\n",
    "    # Get the 10 best sick and non-sick sample indexes\n",
    "    if len(none_sick_probs) != 0:\n",
    "        best_index_non_sick = np.argsort(none_sick_probs)[-10:]\n",
    "    if len(sick_probs) != 0:\n",
    "        best_index_sick = np.argsort(sick_probs)[-10:]\n",
    "\n",
    "    for i in range(0,10):\n",
    "        if len(none_sick_probs) != 0:\n",
    "            none_sick , __ = test_set.__getitem__(best_index_non_sick[i])\n",
    "        if len(sick_probs) != 0:\n",
    "            sick , __ = test_set.__getitem__(best_index_sick[i])\n",
    "\n",
    "        if len(none_sick_stack) == 0:\n",
    "            if none_sick.__len__() != 0:\n",
    "                none_sick_stack = none_sick.numpy()\n",
    "            else:\n",
    "                none_sick_stack = []\n",
    "        else:\n",
    "            none_sick_stack = np.concatenate((none_sick_stack, none_sick.numpy()), axis=0)\n",
    "\n",
    "        if len(sick_stack) == 0:\n",
    "            if sick.__len__() != 0:\n",
    "                sick_stack = sick.numpy()\n",
    "            else:\n",
    "                sick_stack = []\n",
    "        else:\n",
    "            sick_stack = np.concatenate((sick_stack, sick.numpy()), axis=0)\n",
    "            \n",
    "\n",
    "    field_name = f'field{partic_id+1}'\n",
    "    export_matlab[field_name] = { 'sick' : sick_stack, 'normal' : none_sick_stack} #appending the activations of the 2 classes for each participant\n",
    "\n",
    "    # Clear arrays for next model\n",
    "    sick_stack, none_sick_stack = [], []\n",
    "    sick, none_sick = [], []\n",
    "    sick_probs, none_sick_probs = [], []\n",
    "\n",
    "# Save results to directory\n",
    "scipy.io.savemat('./Results/Plots/'+trial_no+'/'+mode+'/'+method+'/matrix_jitter_output.mat', {'export_matlab': export_matlab})\n"
   ]
  }
 ],
 "metadata": {
  "kernelspec": {
   "display_name": "Image_Reconstruction",
   "language": "python",
   "name": "python3"
  },
  "language_info": {
   "codemirror_mode": {
    "name": "ipython",
    "version": 3
   },
   "file_extension": ".py",
   "mimetype": "text/x-python",
   "name": "python",
   "nbconvert_exporter": "python",
   "pygments_lexer": "ipython3",
   "version": "3.9.16"
  },
  "orig_nbformat": 4
 },
 "nbformat": 4,
 "nbformat_minor": 2
}
